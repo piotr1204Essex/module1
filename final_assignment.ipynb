{
 "cells": [
  {
   "cell_type": "markdown",
   "metadata": {},
   "source": [
    "### Dataset acquired"
   ]
  },
  {
   "cell_type": "markdown",
   "metadata": {},
   "source": [
    "Dataset reference:\n",
    "\n",
    "- National Survey for Wales team (2014) ‘National Survey for Wales, 2013-14 - Transport’."
   ]
  },
  {
   "cell_type": "markdown",
   "metadata": {},
   "source": [
    "### Libraries imported"
   ]
  },
  {
   "cell_type": "code",
   "execution_count": 181,
   "metadata": {},
   "outputs": [],
   "source": [
    "# import for handling tables and dataframes\n",
    "import pandas as pd\n",
    "# import for handling plots\n",
    "import matplotlib.pyplot as plt\n",
    "# import for improved visualisation, (plt extension)\n",
    "import seaborn as sns"
   ]
  },
  {
   "cell_type": "markdown",
   "metadata": {},
   "source": [
    "### Dataset import, and control checks"
   ]
  },
  {
   "cell_type": "code",
   "execution_count": 260,
   "metadata": {},
   "outputs": [
    {
     "data": {
      "text/html": [
       "<div>\n",
       "<style scoped>\n",
       "    .dataframe tbody tr th:only-of-type {\n",
       "        vertical-align: middle;\n",
       "    }\n",
       "\n",
       "    .dataframe tbody tr th {\n",
       "        vertical-align: top;\n",
       "    }\n",
       "\n",
       "    .dataframe thead th {\n",
       "        text-align: right;\n",
       "    }\n",
       "</style>\n",
       "<table border=\"1\" class=\"dataframe\">\n",
       "  <thead>\n",
       "    <tr style=\"text-align: right;\">\n",
       "      <th></th>\n",
       "      <th>Table 2: Overall satisfaction with state of transport system in Wales, by have use of a car</th>\n",
       "      <th>Unnamed: 1</th>\n",
       "      <th>Unnamed: 2</th>\n",
       "      <th>Unnamed: 3</th>\n",
       "      <th>Unnamed: 4</th>\n",
       "      <th>Unnamed: 5</th>\n",
       "      <th>Unnamed: 6</th>\n",
       "    </tr>\n",
       "  </thead>\n",
       "  <tbody>\n",
       "    <tr>\n",
       "      <th>0</th>\n",
       "      <td>NaN</td>\n",
       "      <td>NaN</td>\n",
       "      <td>NaN</td>\n",
       "      <td>NaN</td>\n",
       "      <td>NaN</td>\n",
       "      <td>NaN</td>\n",
       "      <td>NaN</td>\n",
       "    </tr>\n",
       "    <tr>\n",
       "      <th>1</th>\n",
       "      <td></td>\n",
       "      <td>NaN</td>\n",
       "      <td>Overall satisfaction with state of transport s...</td>\n",
       "      <td>NaN</td>\n",
       "      <td>NaN</td>\n",
       "      <td>NaN</td>\n",
       "      <td>NaN</td>\n",
       "    </tr>\n",
       "    <tr>\n",
       "      <th>2</th>\n",
       "      <td>NaN</td>\n",
       "      <td>NaN</td>\n",
       "      <td>Mean</td>\n",
       "      <td>NaN</td>\n",
       "      <td>Lower CI</td>\n",
       "      <td>NaN</td>\n",
       "      <td>Upper CI</td>\n",
       "    </tr>\n",
       "    <tr>\n",
       "      <th>3</th>\n",
       "      <td>Have use of a car</td>\n",
       "      <td>Yes</td>\n",
       "      <td>5.756477</td>\n",
       "      <td>NaN</td>\n",
       "      <td>5.671662</td>\n",
       "      <td>NaN</td>\n",
       "      <td>5.841292</td>\n",
       "    </tr>\n",
       "    <tr>\n",
       "      <th>4</th>\n",
       "      <td>NaN</td>\n",
       "      <td>No</td>\n",
       "      <td>6.371955</td>\n",
       "      <td>NaN</td>\n",
       "      <td>6.164324</td>\n",
       "      <td>NaN</td>\n",
       "      <td>6.579586</td>\n",
       "    </tr>\n",
       "  </tbody>\n",
       "</table>\n",
       "</div>"
      ],
      "text/plain": [
       "  Table 2: Overall satisfaction with state of transport system in Wales, by have use of a car  \\\n",
       "0                                                NaN                                            \n",
       "1                                                                                               \n",
       "2                                                NaN                                            \n",
       "3                                  Have use of a car                                            \n",
       "4                                                NaN                                            \n",
       "\n",
       "  Unnamed: 1                                         Unnamed: 2  Unnamed: 3  \\\n",
       "0        NaN                                                NaN         NaN   \n",
       "1        NaN  Overall satisfaction with state of transport s...         NaN   \n",
       "2        NaN                                               Mean         NaN   \n",
       "3        Yes                                           5.756477         NaN   \n",
       "4         No                                           6.371955         NaN   \n",
       "\n",
       "  Unnamed: 4  Unnamed: 5 Unnamed: 6  \n",
       "0        NaN         NaN        NaN  \n",
       "1        NaN         NaN        NaN  \n",
       "2   Lower CI         NaN   Upper CI  \n",
       "3   5.671662         NaN   5.841292  \n",
       "4   6.164324         NaN   6.579586  "
      ]
     },
     "execution_count": 260,
     "metadata": {},
     "output_type": "execute_result"
    }
   ],
   "source": [
    "# importing the dataset\n",
    "df = pd.read_excel(\"Transport 1314.xlsx\", sheet_name=\"Table 2\")\n",
    "# first sense check to have a look at the imported table\n",
    "df.head()"
   ]
  },
  {
   "cell_type": "code",
   "execution_count": 261,
   "metadata": {},
   "outputs": [
    {
     "name": "stdout",
     "output_type": "stream",
     "text": [
      "<class 'pandas.core.frame.DataFrame'>\n",
      "RangeIndex: 13 entries, 0 to 12\n",
      "Data columns (total 7 columns):\n",
      " #   Column                                                                                       Non-Null Count  Dtype  \n",
      "---  ------                                                                                       --------------  -----  \n",
      " 0   Table 2: Overall satisfaction with state of transport system in Wales, by have use of a car  7 non-null      object \n",
      " 1   Unnamed: 1                                                                                   3 non-null      object \n",
      " 2   Unnamed: 2                                                                                   5 non-null      object \n",
      " 3   Unnamed: 3                                                                                   0 non-null      float64\n",
      " 4   Unnamed: 4                                                                                   4 non-null      object \n",
      " 5   Unnamed: 5                                                                                   0 non-null      float64\n",
      " 6   Unnamed: 6                                                                                   4 non-null      object \n",
      "dtypes: float64(2), object(5)\n",
      "memory usage: 856.0+ bytes\n"
     ]
    }
   ],
   "source": [
    "# info function providing overview of field types, length, dataset size, memory allocation etc.\n",
    "df.info()"
   ]
  },
  {
   "cell_type": "markdown",
   "metadata": {},
   "source": [
    "### Missing values identified and handled, graphs visualised"
   ]
  },
  {
   "cell_type": "code",
   "execution_count": 250,
   "metadata": {},
   "outputs": [],
   "source": [
    "# this function is written for tables 1-16 \n",
    "# since visualisation is generalised for these tables, sometimes\n",
    "# x-axis may not be entirely readable\n",
    "def cleaning_and_vis_function_1(excelName, sheetName):\n",
    "    \n",
    "    # importing the dataset\n",
    "    df = pd.read_excel(excelName, sheet_name=sheetName)\n",
    "    #dropping rows with all null values - chosen strategy for handling nulls\n",
    "    df.dropna(how=\"all\", inplace=True)\n",
    "    #dropping columns with all null values - chosen strategy for handling nulls\n",
    "    df.dropna(axis=1, how=\"all\", inplace=True)\n",
    "    # saving into a variable name of the categorical variables\n",
    "    categorical_name = df.iloc[2,0]\n",
    "    # saving chart title into a variable\n",
    "    chart_title = df.columns[0]\n",
    "    # saving column names into variables\n",
    "    mean = df.iloc[1,2]\n",
    "    lower_ci = df.iloc[1,3]\n",
    "    upper_ci = df.iloc[1,4]\n",
    "    # renaming columns based on the saved variables\n",
    "    df.rename(columns={\"Unnamed: 1\" : categorical_name,\n",
    "    \"Unnamed: 2\" : mean, \"Unnamed: 4\" : lower_ci, \"Unnamed: 6\" : upper_ci},\n",
    "    inplace=True)\n",
    "    df = df.iloc[:,1:]\n",
    "    # re-dropping rows with all null values to achieve a clean table\n",
    "    df.dropna(how='any', inplace=True)\n",
    "\n",
    "    # this is implementation of the bar plot in line with Data Analytics Report\n",
    "    sns.barplot(x=categorical_name,\n",
    "            y=mean,\n",
    "            data=df)\n",
    "\n",
    "    plt.xlabel(categorical_name)\n",
    "    plt.ylabel(mean)\n",
    "    plt.legend(title=chart_title, loc = 1, fontsize = 'small', fancybox = True)\n",
    "    # Show the plot\n",
    "    plt.show()\n",
    "\n",
    "    return df"
   ]
  },
  {
   "cell_type": "code",
   "execution_count": 259,
   "metadata": {},
   "outputs": [
    {
     "name": "stderr",
     "output_type": "stream",
     "text": [
      "No artists with labels found to put in legend.  Note that artists whose label start with an underscore are ignored when legend() is called with no argument.\n"
     ]
    },
    {
     "data": {
      "image/png": "[encoded data removed]",
      "text/plain": [
       "<Figure size 432x288 with 1 Axes>"
      ]
     },
     "metadata": {
      "needs_background": "light"
     },
     "output_type": "display_data"
    }
   ],
   "source": [
    "# this is example usage of the function above that not only displays a chart\n",
    "# but also assignes clean and ready to use dataframe for further analysis\n",
    "df = cleaning_and_vis_function_1(\"Transport 1314.xlsx\", \"Table 2\")"
   ]
  },
  {
   "cell_type": "code",
   "execution_count": 257,
   "metadata": {},
   "outputs": [],
   "source": [
    "# this function is written for tables 17-22\n",
    "# since visualisation is generalised for these tables, sometimes\n",
    "# x-axis may not be entirely readable\n",
    "def cleaning_and_vis_function_2(excelName, sheetName, yesOrNo=\"yes\"):\n",
    "    \n",
    "    # if-else statement to select appropriate column for the y-axis\n",
    "    # as well as to raise an error when input is wrong\n",
    "    if yesOrNo == \"yes\" or yesOrNo == \"Yes\":\n",
    "        yesOrNo = \"Yes (%)\"\n",
    "    elif yesOrNo == \"no\" or yesOrNo == \"No\":\n",
    "        yesOrNo = \"No (%)\"\n",
    "    else:\n",
    "        raise ValueError(f'Function accepts only yes/no or \"Yes/No input. \"{yesOrNo}\" was provided instead.')\n",
    "    \n",
    "    df = pd.read_excel(excelName, sheet_name=sheetName)\n",
    "    #dropping rows with all null values - chosen strategy for handling nulls\n",
    "    df.dropna(how=\"all\", inplace=True)\n",
    "    #dropping columns with all null values - chosen strategy for handling nulls\n",
    "    df.dropna(axis=1, how=\"all\", inplace=True)\n",
    "    # saving into a variable name of the categorical variables\n",
    "    categorical_name = df.iloc[3,0]\n",
    "    # saving chart title into a variable\n",
    "    chart_title = df.columns[0]\n",
    "    # saving column names into variables\n",
    "    lower_ci_yes = df.iloc[2,3]\n",
    "    upper_ci_yes = df.iloc[2,4]\n",
    "    lower_ci_no = df.iloc[2,6]\n",
    "    upper_ci_no = df.iloc[2,7]\n",
    "    # # renaming columns based on the saved variables\n",
    "    df.rename(columns={\"Unnamed: 1\" : categorical_name,\n",
    "    \"Unnamed: 2\" : \"Yes (%)\", \"Unnamed: 8\" : \"No (%)\", \"Unnamed: 4\" : lower_ci_yes,\n",
    "    \"Unnamed: 6\" : upper_ci_yes, \"Unnamed: 10\" : lower_ci_no, \"Unnamed: 12\" : upper_ci_no},\n",
    "    inplace=True)\n",
    "    df = df.iloc[:,1:]\n",
    "    # re-dropping rows with all null values to achieve a clean table\n",
    "    df.dropna(how='any', inplace=True)\n",
    "\n",
    "    # this is implementation of the line plot in line with Data Analytics Report\n",
    "    sns.lineplot(data=df, x=categorical_name, y=yesOrNo)\n",
    "\n",
    "    return df"
   ]
  },
  {
   "cell_type": "code",
   "execution_count": 258,
   "metadata": {},
   "outputs": [
    {
     "data": {
      "image/png": "[encoded data removed]",
      "text/plain": [
       "<Figure size 432x288 with 1 Axes>"
      ]
     },
     "metadata": {
      "needs_background": "light"
     },
     "output_type": "display_data"
    }
   ],
   "source": [
    "# this is example usage of the function above that not only displays a chart\n",
    "# but also assignes clean and ready to use dataframe for further analysis\n",
    "df = cleaning_and_vis_function_2(\"Transport 1314.xlsx\", \"Table 18\", \"yes\")"
   ]
  }
 ],
 "metadata": {
  "kernelspec": {
   "display_name": "Python 3.8.9 64-bit",
   "language": "python",
   "name": "python3"
  },
  "language_info": {
   "codemirror_mode": {
    "name": "ipython",
    "version": 3
   },
   "file_extension": ".py",
   "mimetype": "text/x-python",
   "name": "python",
   "nbconvert_exporter": "python",
   "pygments_lexer": "ipython3",
   "version": "3.8.9"
  },
  "orig_nbformat": 4,
  "vscode": {
   "interpreter": {
    "hash": "31f2aee4e71d21fbe5cf8b01ff0e069b9275f58929596ceb00d14d90e3e16cd6"
   }
  }
 },
 "nbformat": 4,
 "nbformat_minor": 2
}
